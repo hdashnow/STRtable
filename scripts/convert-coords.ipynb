{
 "cells": [
  {
   "cell_type": "code",
   "execution_count": null,
   "metadata": {},
   "outputs": [
    {
     "name": "stdout",
     "output_type": "stream",
     "text": [
      "Liftover to T2T and hg19 complete. Saved as 'STRchive-loci-updated.json'.\n"
     ]
    }
   ],
   "source": [
    "import json\n",
    "from pyliftover import LiftOver\n",
    "\n",
    "#https://hgdownload.gi.ucsc.edu/hubs/GCA/009/914/755/GCA_009914755.4/liftOver/hg38-chm13v2.over.chain.gz\n",
    "chainfile_t2t = \"data/hg38-chm13v2.over.chain.gz\"\n",
    "lo_t2t = LiftOver(chainfile_t2t)\n",
    "\n",
    "# Load chain file for hg38 to hg19 conversion\n",
    "lo_hg38_to_hg19 = LiftOver('hg38', 'hg19')\n",
    "\n",
    "# Load JSON file with coordinates\n",
    "with open(\"data/STRchive-loci.json\", \"r\") as file:\n",
    "    loci_data = json.load(file)\n",
    "\n",
    "# Process each entry in the JSON\n",
    "for entry in loci_data:\n",
    "    chrom = entry[\"chrom\"]\n",
    "\n",
    "    # Convert start and stop positions from hg38 to T2T\n",
    "    converted_start_t2t = lo_t2t.convert_coordinate(chrom, entry[\"start_hg38\"])\n",
    "    converted_stop_t2t = lo_t2t.convert_coordinate(chrom, entry[\"stop_hg38\"])\n",
    "\n",
    "    # Convert start and stop positions from hg38 to hg19\n",
    "    converted_start_hg19 = lo_hg38_to_hg19.convert_coordinate(chrom, entry[\"start_hg38\"])\n",
    "    converted_stop_hg19 = lo_hg38_to_hg19.convert_coordinate(chrom, entry[\"stop_hg38\"])\n",
    "\n",
    "    # Store results in the JSON\n",
    "    if converted_start_t2t and converted_stop_t2t:\n",
    "        entry[\"start_t2t\"] = converted_start_t2t[0][1]\n",
    "        entry[\"stop_t2t\"] = converted_stop_t2t[0][1]\n",
    "    else:\n",
    "        entry[\"start_t2t\"] = None\n",
    "        entry[\"stop_t2t\"] = None\n",
    "\n",
    "    if converted_start_hg19 and converted_stop_hg19:\n",
    "        entry[\"start_hg19\"] = converted_start_hg19[0][1]\n",
    "        entry[\"stop_hg19\"] = converted_stop_hg19[0][1]\n",
    "    else:\n",
    "        entry[\"start_hg19\"] = None\n",
    "        entry[\"stop_hg19\"] = None\n",
    "\n",
    "# Save updated JSON with both liftover results\n",
    "with open(\"STRchive-loci-updated.json\", \"w\") as outfile:\n",
    "    json.dump(loci_data, outfile, indent=4)\n",
    "\n",
    "print(\"Liftover to T2T and hg19 complete. Saved as 'STRchive-loci-updated.json'.\")\n"
   ]
  }
 ],
 "metadata": {
  "kernelspec": {
   "display_name": "liftover",
   "language": "python",
   "name": "python3"
  },
  "language_info": {
   "codemirror_mode": {
    "name": "ipython",
    "version": 3
   },
   "file_extension": ".py",
   "mimetype": "text/x-python",
   "name": "python",
   "nbconvert_exporter": "python",
   "pygments_lexer": "ipython3",
   "version": "3.12.8"
  }
 },
 "nbformat": 4,
 "nbformat_minor": 2
}
